{
 "cells": [
  {
   "cell_type": "code",
   "execution_count": 1,
   "metadata": {},
   "outputs": [],
   "source": [
    "from splinter import Browser\n",
    "from bs4 import BeautifulSoup as bs\n",
    "from webdriver_manager.chrome import ChromeDriverManager\n",
    "import pandas as pd\n",
    "\n",
    "browser = Browser('chrome',executable_path = \"C:/Users/19105/ChromeDriver\",headless=False)"
   ]
  },
  {
   "cell_type": "code",
   "execution_count": 2,
   "metadata": {},
   "outputs": [],
   "source": [
    "# NASA Mars News scrape\n",
    "\n",
    "browser.visit(\"https://redplanetscience.com/\")\n",
    "\n",
    "html = browser.html\n",
    "soup = bs(html, \"html.parser\")\n",
    "\n",
    "raw_news_title = soup.find('div', class_ = \"content_title\")\n",
    "raw_news_teaser = soup.find('div', class_ = \"article_teaser_body\")\n",
    "\n",
    "news_title = raw_news_title.text\n",
    "news_teaser = raw_news_teaser.text"
   ]
  },
  {
   "cell_type": "code",
   "execution_count": null,
   "metadata": {},
   "outputs": [],
   "source": [
    "# JPL Mars Space Images scrape\n",
    "\n",
    "url = \"https://spaceimages-mars.com/\"\n",
    "browser.visit(url)\n",
    "\n",
    "html = browser.html\n",
    "soup = bs(html, \"html.parser\")\n",
    "\n",
    "featured_image_href = soup.find('a', class_ = \"showimg fancybox-thumbs\") \n"
   ]
  },
  {
   "cell_type": "code",
   "execution_count": null,
   "metadata": {},
   "outputs": [],
   "source": [
    "href = featured_image_href['href']\n",
    "\n",
    "img_url = url + href"
   ]
  },
  {
   "cell_type": "code",
   "execution_count": null,
   "metadata": {},
   "outputs": [],
   "source": [
    "# Mars Facts table facts scrape\n",
    "\n",
    "browser.visit(\"https://galaxyfacts-mars.com\")\n",
    "\n",
    "html = browser.html\n",
    "soup = bs(html, \"html.parser\")\n",
    "\n",
    "scrape_facts = []\n",
    "\n",
    "table = soup.find(\"div\", class_ = \"sidebar\")"
   ]
  },
  {
   "cell_type": "code",
   "execution_count": null,
   "metadata": {},
   "outputs": [],
   "source": [
    "facts = table.find_all(\"tr\")"
   ]
  },
  {
   "cell_type": "code",
   "execution_count": null,
   "metadata": {},
   "outputs": [],
   "source": [
    "for fact in facts:\n",
    "    scrape_facts.append({\"category\":fact.th.text, \"data\":fact.td.text.strip()})"
   ]
  },
  {
   "cell_type": "code",
   "execution_count": null,
   "metadata": {},
   "outputs": [],
   "source": [
    "scrape_facts_df = pd.DataFrame(scrape_facts)\n",
    "pd.DataFrame(scrape_facts)"
   ]
  },
  {
   "cell_type": "code",
   "execution_count": null,
   "metadata": {},
   "outputs": [],
   "source": [
    "scrape_facts_html = scrape_facts_df.to_html(header=False)\n",
    "scrape_facts_html"
   ]
  },
  {
   "cell_type": "code",
   "execution_count": null,
   "metadata": {},
   "outputs": [],
   "source": [
    "# Mars Hemispheres images scrape\n",
    "url = \"https://marshemispheres.com/\"\n",
    "browser.visit(url)\n",
    "\n",
    "html = browser.html\n",
    "soup = bs(html, \"html.parser\")\n",
    "\n",
    "collapsible = soup.find(\"div\", class_ = \"collapsible results\")"
   ]
  },
  {
   "cell_type": "code",
   "execution_count": null,
   "metadata": {},
   "outputs": [],
   "source": [
    "h3_clean = []\n",
    "\n",
    "h3 = collapsible.find_all(\"h3\")\n",
    "for item in h3:\n",
    "    h3_clean.append(item.text.strip())"
   ]
  },
  {
   "cell_type": "code",
   "execution_count": null,
   "metadata": {},
   "outputs": [],
   "source": [
    "full_url_list = []\n",
    "\n",
    "for item in h3_clean:\n",
    "    browser.links.find_by_partial_text(item).click()\n",
    "\n",
    "    html_2 = browser.html\n",
    "    soup_2 = bs(html_2, \"html.parser\")\n",
    "\n",
    "    downloads = soup_2.find(\"div\", class_ = \"downloads\")\n",
    "    \n",
    "    img_anchor = downloads.find(\"a\")\n",
    "    href = img_anchor['href']\n",
    "    #href\n",
    "    \n",
    "    full_url = url + href\n",
    "    #full_url\n",
    "    \n",
    "    full_url_list.append(full_url)\n",
    "    \n",
    "    browser.back()\n",
    "\n",
    "browser.quit()    "
   ]
  },
  {
   "cell_type": "code",
   "execution_count": null,
   "metadata": {},
   "outputs": [],
   "source": [
    "full_url_list"
   ]
  },
  {
   "cell_type": "code",
   "execution_count": null,
   "metadata": {},
   "outputs": [],
   "source": [
    "mars_hemi_dict = []\n",
    "\n",
    "hemisphere_list = []\n",
    "\n",
    "for item in h3_clean:\n",
    "    item = item.replace(' Enhanced','')\n",
    "    hemisphere_list.append(item)\n",
    "\n",
    "loop = 0\n",
    "\n",
    "for item in hemisphere_list:\n",
    "    \n",
    "    mars_hemi_dict.append({\"title\":item, \"img_url\":full_url_list[loop]})\n",
    "    loop += 1"
   ]
  },
  {
   "cell_type": "code",
   "execution_count": null,
   "metadata": {},
   "outputs": [],
   "source": []
  }
 ],
 "metadata": {
  "kernelspec": {
   "display_name": "Python [conda env:PythonData] *",
   "language": "python",
   "name": "conda-env-PythonData-py"
  },
  "language_info": {
   "codemirror_mode": {
    "name": "ipython",
    "version": 3
   },
   "file_extension": ".py",
   "mimetype": "text/x-python",
   "name": "python",
   "nbconvert_exporter": "python",
   "pygments_lexer": "ipython3",
   "version": "3.6.10"
  }
 },
 "nbformat": 4,
 "nbformat_minor": 4
}
